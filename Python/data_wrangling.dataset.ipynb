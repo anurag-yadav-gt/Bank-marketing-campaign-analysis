{
 "cells": [
  {
   "cell_type": "code",
   "execution_count": 1,
   "id": "f881e208",
   "metadata": {},
   "outputs": [],
   "source": [
    "import numpy as np\n",
    "import pandas as pd\n",
    "from sqlalchemy import create_engine\n",
    "import urllib.parse\n",
    "import matplotlib.pyplot as plt\n",
    "import seaborn as sns"
   ]
  },
  {
   "cell_type": "markdown",
   "id": "eda12136",
   "metadata": {},
   "source": [
    "Creating the SQLAlchemy Engine"
   ]
  },
  {
   "cell_type": "code",
   "execution_count": 2,
   "id": "6d67d325",
   "metadata": {},
   "outputs": [
    {
     "name": "stdout",
     "output_type": "stream",
     "text": [
      "Connection string created successfully!\n",
      "Successfully connected to the database!\n"
     ]
    }
   ],
   "source": [
    "\n",
    "db_username = 'postgres'\n",
    "db_password = 'Anurag@682'\n",
    "db_host = 'localhost'\n",
    "db_port = '5432'\n",
    "db_name = 'bank_marketing'\n",
    "\n",
    "\n",
    "# URL-encode the password\n",
    "encoded_db_password = urllib.parse.quote_plus(db_password)\n",
    "\n",
    "# Creating the connection string\n",
    "engine = create_engine(f'postgresql+psycopg2://{db_username}:{encoded_db_password}@{db_host}:{db_port}/{db_name}')\n",
    "\n",
    "print(\"Connection string created successfully!\")\n",
    "\n",
    "try:\n",
    "    with engine.connect() as connection:\n",
    "        print(\"Successfully connected to the database!\")\n",
    "except Exception as e:\n",
    "    print(f\"Error connecting: {e}\")\n"
   ]
  },
  {
   "cell_type": "markdown",
   "id": "79e66e8e",
   "metadata": {},
   "source": [
    "Our password had @ which is causing trouble in parsing the database correctly therefore we had to encode using URL"
   ]
  },
  {
   "cell_type": "markdown",
   "id": "f5eeaf28",
   "metadata": {},
   "source": [
    "Loading the clients Table into pandas"
   ]
  },
  {
   "cell_type": "code",
   "execution_count": 3,
   "id": "7975102b",
   "metadata": {},
   "outputs": [],
   "source": [
    "df_clients = pd.read_sql(\"SELECT * FROM bank_marketing.clients\", engine )\n",
    "\n"
   ]
  },
  {
   "cell_type": "code",
   "execution_count": 4,
   "id": "63d64b1a",
   "metadata": {},
   "outputs": [
    {
     "data": {
      "text/html": [
       "<div>\n",
       "<style scoped>\n",
       "    .dataframe tbody tr th:only-of-type {\n",
       "        vertical-align: middle;\n",
       "    }\n",
       "\n",
       "    .dataframe tbody tr th {\n",
       "        vertical-align: top;\n",
       "    }\n",
       "\n",
       "    .dataframe thead th {\n",
       "        text-align: right;\n",
       "    }\n",
       "</style>\n",
       "<table border=\"1\" class=\"dataframe\">\n",
       "  <thead>\n",
       "    <tr style=\"text-align: right;\">\n",
       "      <th></th>\n",
       "      <th>client_id</th>\n",
       "      <th>age</th>\n",
       "      <th>job</th>\n",
       "      <th>marital</th>\n",
       "      <th>education</th>\n",
       "      <th>Default</th>\n",
       "      <th>housing</th>\n",
       "      <th>loan</th>\n",
       "      <th>age_group</th>\n",
       "      <th>financial_risk</th>\n",
       "    </tr>\n",
       "  </thead>\n",
       "  <tbody>\n",
       "    <tr>\n",
       "      <th>0</th>\n",
       "      <td>29201</td>\n",
       "      <td>56</td>\n",
       "      <td>blue-collar</td>\n",
       "      <td>married</td>\n",
       "      <td>basic.4y</td>\n",
       "      <td>no</td>\n",
       "      <td>no</td>\n",
       "      <td>no</td>\n",
       "      <td>Senior_adults</td>\n",
       "      <td>low_risk</td>\n",
       "    </tr>\n",
       "    <tr>\n",
       "      <th>1</th>\n",
       "      <td>37259</td>\n",
       "      <td>27</td>\n",
       "      <td>blue-collar</td>\n",
       "      <td>married</td>\n",
       "      <td>high.school</td>\n",
       "      <td>no</td>\n",
       "      <td>no</td>\n",
       "      <td>no</td>\n",
       "      <td>Young_adults</td>\n",
       "      <td>low_risk</td>\n",
       "    </tr>\n",
       "    <tr>\n",
       "      <th>2</th>\n",
       "      <td>15290</td>\n",
       "      <td>31</td>\n",
       "      <td>self-employed</td>\n",
       "      <td>married</td>\n",
       "      <td>professional.course</td>\n",
       "      <td>no</td>\n",
       "      <td>no</td>\n",
       "      <td>no</td>\n",
       "      <td>Adults</td>\n",
       "      <td>low_risk</td>\n",
       "    </tr>\n",
       "    <tr>\n",
       "      <th>3</th>\n",
       "      <td>16663</td>\n",
       "      <td>54</td>\n",
       "      <td>housemaid</td>\n",
       "      <td>married</td>\n",
       "      <td>basic.4y</td>\n",
       "      <td>no</td>\n",
       "      <td>yes</td>\n",
       "      <td>no</td>\n",
       "      <td>Senior_adults</td>\n",
       "      <td>moderate_risk</td>\n",
       "    </tr>\n",
       "    <tr>\n",
       "      <th>4</th>\n",
       "      <td>20778</td>\n",
       "      <td>36</td>\n",
       "      <td>admin</td>\n",
       "      <td>married</td>\n",
       "      <td>university.degree</td>\n",
       "      <td>no</td>\n",
       "      <td>no</td>\n",
       "      <td>no</td>\n",
       "      <td>Adults</td>\n",
       "      <td>low_risk</td>\n",
       "    </tr>\n",
       "  </tbody>\n",
       "</table>\n",
       "</div>"
      ],
      "text/plain": [
       "   client_id  age            job  marital            education Default  \\\n",
       "0      29201   56    blue-collar  married             basic.4y      no   \n",
       "1      37259   27    blue-collar  married          high.school      no   \n",
       "2      15290   31  self-employed  married  professional.course      no   \n",
       "3      16663   54      housemaid  married             basic.4y      no   \n",
       "4      20778   36          admin  married    university.degree      no   \n",
       "\n",
       "  housing loan      age_group financial_risk  \n",
       "0      no   no  Senior_adults       low_risk  \n",
       "1      no   no   Young_adults       low_risk  \n",
       "2      no   no         Adults       low_risk  \n",
       "3     yes   no  Senior_adults  moderate_risk  \n",
       "4      no   no         Adults       low_risk  "
      ]
     },
     "execution_count": 4,
     "metadata": {},
     "output_type": "execute_result"
    }
   ],
   "source": [
    "df_clients.head()"
   ]
  },
  {
   "cell_type": "markdown",
   "id": "3d4e2d47",
   "metadata": {},
   "source": [
    "We had this issue , that the single value \"unknown\" was incessant across the client table therefore for treating it , we are gonna perform relevant operation "
   ]
  },
  {
   "cell_type": "code",
   "execution_count": 5,
   "id": "8d2d174e",
   "metadata": {},
   "outputs": [
    {
     "name": "stdout",
     "output_type": "stream",
     "text": [
      "Series([], dtype: int64)\n"
     ]
    }
   ],
   "source": [
    "unkown_counts = (df_clients == 'unknown').sum()\n",
    "print(unkown_counts[unkown_counts > 0])\n"
   ]
  },
  {
   "cell_type": "markdown",
   "id": "461f53d6",
   "metadata": {},
   "source": [
    "We are gonna follow the common approach here"
   ]
  },
  {
   "cell_type": "code",
   "execution_count": 6,
   "id": "602a5c3a",
   "metadata": {},
   "outputs": [
    {
     "data": {
      "text/plain": [
       "client_id          int64\n",
       "age                int64\n",
       "job               object\n",
       "marital           object\n",
       "education         object\n",
       "Default           object\n",
       "housing           object\n",
       "loan              object\n",
       "age_group         object\n",
       "financial_risk    object\n",
       "dtype: object"
      ]
     },
     "execution_count": 6,
     "metadata": {},
     "output_type": "execute_result"
    }
   ],
   "source": [
    "df_clients.dtypes"
   ]
  },
  {
   "cell_type": "markdown",
   "id": "d6b8df85",
   "metadata": {},
   "source": [
    "Check Unique Job Titles"
   ]
  },
  {
   "cell_type": "code",
   "execution_count": 7,
   "id": "50a6bffa",
   "metadata": {},
   "outputs": [
    {
     "data": {
      "text/plain": [
       "education\n",
       "university.degree      13230\n",
       "high.school             9832\n",
       "basic.9y                6045\n",
       "professional.course     5455\n",
       "basic.4y                4316\n",
       "basic.6y                2292\n",
       "illiterate                18\n",
       "Name: count, dtype: int64"
      ]
     },
     "execution_count": 7,
     "metadata": {},
     "output_type": "execute_result"
    }
   ],
   "source": [
    "df_clients['education'].value_counts() #could check in-turn which column contains how much distinct values\n"
   ]
  },
  {
   "cell_type": "markdown",
   "id": "a96b6759",
   "metadata": {},
   "source": [
    "Replacing \"unknown\" with \"Not specified\" in job"
   ]
  },
  {
   "cell_type": "code",
   "execution_count": 8,
   "id": "4c250944",
   "metadata": {},
   "outputs": [],
   "source": [
    "df_clients['job'] = df_clients['job'].replace('unknown','Not specified')\n"
   ]
  },
  {
   "cell_type": "markdown",
   "id": "2eb319a9",
   "metadata": {},
   "source": [
    "Replacing \"unknown\" in marital"
   ]
  },
  {
   "cell_type": "code",
   "execution_count": 9,
   "id": "799dc124",
   "metadata": {},
   "outputs": [],
   "source": [
    "df_clients[\"marital\"] = df_clients[\"marital\"].replace(\"unknown\", \"Not specified\")\n"
   ]
  },
  {
   "cell_type": "markdown",
   "id": "20644479",
   "metadata": {},
   "source": [
    "Replacing \"unknown\" with NaN in education gives you flexibility later for imputation based on other columns like job, age, or marital.\n",
    "\n",
    "  "
   ]
  },
  {
   "cell_type": "code",
   "execution_count": 10,
   "id": "59c544ce",
   "metadata": {},
   "outputs": [],
   "source": [
    "df_clients['education'] = df_clients['education'].replace('unknown',np.nan)"
   ]
  },
  {
   "cell_type": "markdown",
   "id": "7a4b6c11",
   "metadata": {},
   "source": [
    "Replacing \"unknown\" with \"Not specified\" in default, housing, and loan\n",
    "\n"
   ]
  },
  {
   "cell_type": "code",
   "execution_count": 11,
   "id": "58352468",
   "metadata": {},
   "outputs": [],
   "source": [
    "cols_to_update = ['Default','housing','loan']\n",
    "\n",
    "for col in cols_to_update:\n",
    "    df_clients[col] = df_clients[col].replace('unknown','Not specified')\n",
    "\n",
    "\n",
    "df_clients.to_csv('Clients.csv',index=False)"
   ]
  },
  {
   "cell_type": "markdown",
   "id": "70030f19",
   "metadata": {},
   "source": [
    "Renaming the Default column in our pandas DataFrame to match SQL column name:\n",
    "\n"
   ]
  },
  {
   "cell_type": "code",
   "execution_count": 12,
   "id": "96febdf4",
   "metadata": {},
   "outputs": [],
   "source": [
    "df_clients.rename(columns={\"Default\": \"default\"}, inplace=True)\n"
   ]
  },
  {
   "cell_type": "markdown",
   "id": "91867c7e",
   "metadata": {},
   "source": [
    "Uploading the cleaned DataFrame to a temporary table"
   ]
  },
  {
   "cell_type": "code",
   "execution_count": 13,
   "id": "c9bb7dca",
   "metadata": {},
   "outputs": [
    {
     "data": {
      "text/plain": [
       "188"
      ]
     },
     "execution_count": 13,
     "metadata": {},
     "output_type": "execute_result"
    }
   ],
   "source": [
    "df_clients.to_sql(\"clients_temp\", engine, schema=\"bank_marketing\", if_exists=\"replace\", index=False)"
   ]
  },
  {
   "cell_type": "markdown",
   "id": "e5b55e0f",
   "metadata": {},
   "source": [
    "Using SQL to update the original clients table"
   ]
  },
  {
   "cell_type": "code",
   "execution_count": 14,
   "id": "4461c726",
   "metadata": {},
   "outputs": [],
   "source": [
    "\n",
    "from sqlalchemy import text\n",
    "\n",
    "update_query = \"\"\"\n",
    "UPDATE bank_marketing.clients AS orig\n",
    "SET\n",
    "    job = temp.job,\n",
    "    marital = temp.marital,\n",
    "    education = temp.education,\n",
    "    \"Default\" = temp.\"default\",\n",
    "    housing = temp.housing,\n",
    "    loan = temp.loan\n",
    "FROM bank_marketing.clients_temp AS temp\n",
    "WHERE orig.client_id = temp.client_id;\n",
    "\"\"\"\n",
    "\n",
    "with engine.begin() as conn:\n",
    "    conn.execute(text(update_query))\n",
    "\n"
   ]
  },
  {
   "cell_type": "markdown",
   "id": "9ef7f75c",
   "metadata": {},
   "source": [
    "Droping the temporary table"
   ]
  },
  {
   "cell_type": "code",
   "execution_count": 15,
   "id": "e6c2a3af",
   "metadata": {},
   "outputs": [],
   "source": [
    "with engine.begin() as conn:\n",
    "    conn.execute(text(\"DROP TABLE bank_marketing.clients_temp;\"))\n"
   ]
  },
  {
   "cell_type": "markdown",
   "id": "493e2648",
   "metadata": {},
   "source": [
    "Time to make sense out of these tables too:"
   ]
  },
  {
   "cell_type": "code",
   "execution_count": 16,
   "id": "6e2c0419",
   "metadata": {},
   "outputs": [],
   "source": [
    "df_contacts = pd.read_sql(\"SELECT * FROM bank_marketing.contacts\", engine)\n",
    "df_campaigns = pd.read_sql(\"SELECT * FROM bank_marketing.campaigns\", engine)\n",
    "df_subscriptions = pd.read_sql(\"SELECT * FROM bank_marketing.subscription\", engine)"
   ]
  },
  {
   "cell_type": "code",
   "execution_count": 17,
   "id": "ef50fa90",
   "metadata": {},
   "outputs": [],
   "source": [
    "df = df_clients.merge(df_subscriptions, on=\"client_id\") \\\n",
    "               .merge(df_contacts, on=\"client_id\") \\\n",
    "               .merge(df_campaigns, on=\"client_id\")\n"
   ]
  },
  {
   "cell_type": "code",
   "execution_count": 18,
   "id": "88c23bdf",
   "metadata": {},
   "outputs": [
    {
     "data": {
      "text/html": [
       "<div>\n",
       "<style scoped>\n",
       "    .dataframe tbody tr th:only-of-type {\n",
       "        vertical-align: middle;\n",
       "    }\n",
       "\n",
       "    .dataframe tbody tr th {\n",
       "        vertical-align: top;\n",
       "    }\n",
       "\n",
       "    .dataframe thead th {\n",
       "        text-align: right;\n",
       "    }\n",
       "</style>\n",
       "<table border=\"1\" class=\"dataframe\">\n",
       "  <thead>\n",
       "    <tr style=\"text-align: right;\">\n",
       "      <th></th>\n",
       "      <th>client_id</th>\n",
       "      <th>age</th>\n",
       "      <th>job</th>\n",
       "      <th>marital</th>\n",
       "      <th>education</th>\n",
       "      <th>default</th>\n",
       "      <th>housing</th>\n",
       "      <th>loan</th>\n",
       "      <th>age_group</th>\n",
       "      <th>financial_risk</th>\n",
       "      <th>...</th>\n",
       "      <th>mnth</th>\n",
       "      <th>day_of_week</th>\n",
       "      <th>duration</th>\n",
       "      <th>call_duration_band</th>\n",
       "      <th>campaign_id</th>\n",
       "      <th>campaign</th>\n",
       "      <th>pdays</th>\n",
       "      <th>previous</th>\n",
       "      <th>poutcome</th>\n",
       "      <th>repeated_contacts</th>\n",
       "    </tr>\n",
       "  </thead>\n",
       "  <tbody>\n",
       "    <tr>\n",
       "      <th>0</th>\n",
       "      <td>29201</td>\n",
       "      <td>56</td>\n",
       "      <td>blue-collar</td>\n",
       "      <td>married</td>\n",
       "      <td>basic.4y</td>\n",
       "      <td>no</td>\n",
       "      <td>no</td>\n",
       "      <td>no</td>\n",
       "      <td>Senior_adults</td>\n",
       "      <td>low_risk</td>\n",
       "      <td>...</td>\n",
       "      <td>apr</td>\n",
       "      <td>fri</td>\n",
       "      <td>422</td>\n",
       "      <td>5-10min</td>\n",
       "      <td>29201</td>\n",
       "      <td>1</td>\n",
       "      <td>999</td>\n",
       "      <td>0</td>\n",
       "      <td>nonexistent</td>\n",
       "      <td>1</td>\n",
       "    </tr>\n",
       "    <tr>\n",
       "      <th>1</th>\n",
       "      <td>37259</td>\n",
       "      <td>27</td>\n",
       "      <td>blue-collar</td>\n",
       "      <td>married</td>\n",
       "      <td>high.school</td>\n",
       "      <td>no</td>\n",
       "      <td>no</td>\n",
       "      <td>no</td>\n",
       "      <td>Young_adults</td>\n",
       "      <td>low_risk</td>\n",
       "      <td>...</td>\n",
       "      <td>aug</td>\n",
       "      <td>fri</td>\n",
       "      <td>192</td>\n",
       "      <td>3-5min</td>\n",
       "      <td>37259</td>\n",
       "      <td>1</td>\n",
       "      <td>4</td>\n",
       "      <td>1</td>\n",
       "      <td>success</td>\n",
       "      <td>1</td>\n",
       "    </tr>\n",
       "    <tr>\n",
       "      <th>2</th>\n",
       "      <td>15290</td>\n",
       "      <td>31</td>\n",
       "      <td>self-employed</td>\n",
       "      <td>married</td>\n",
       "      <td>professional.course</td>\n",
       "      <td>no</td>\n",
       "      <td>no</td>\n",
       "      <td>no</td>\n",
       "      <td>Adults</td>\n",
       "      <td>low_risk</td>\n",
       "      <td>...</td>\n",
       "      <td>jul</td>\n",
       "      <td>thu</td>\n",
       "      <td>505</td>\n",
       "      <td>5-10min</td>\n",
       "      <td>15290</td>\n",
       "      <td>3</td>\n",
       "      <td>999</td>\n",
       "      <td>0</td>\n",
       "      <td>nonexistent</td>\n",
       "      <td>2-3</td>\n",
       "    </tr>\n",
       "    <tr>\n",
       "      <th>3</th>\n",
       "      <td>16663</td>\n",
       "      <td>54</td>\n",
       "      <td>housemaid</td>\n",
       "      <td>married</td>\n",
       "      <td>basic.4y</td>\n",
       "      <td>no</td>\n",
       "      <td>yes</td>\n",
       "      <td>no</td>\n",
       "      <td>Senior_adults</td>\n",
       "      <td>moderate_risk</td>\n",
       "      <td>...</td>\n",
       "      <td>jul</td>\n",
       "      <td>wed</td>\n",
       "      <td>198</td>\n",
       "      <td>3-5min</td>\n",
       "      <td>16663</td>\n",
       "      <td>13</td>\n",
       "      <td>999</td>\n",
       "      <td>0</td>\n",
       "      <td>nonexistent</td>\n",
       "      <td>10+</td>\n",
       "    </tr>\n",
       "    <tr>\n",
       "      <th>4</th>\n",
       "      <td>20778</td>\n",
       "      <td>36</td>\n",
       "      <td>admin</td>\n",
       "      <td>married</td>\n",
       "      <td>university.degree</td>\n",
       "      <td>no</td>\n",
       "      <td>no</td>\n",
       "      <td>no</td>\n",
       "      <td>Adults</td>\n",
       "      <td>low_risk</td>\n",
       "      <td>...</td>\n",
       "      <td>aug</td>\n",
       "      <td>wed</td>\n",
       "      <td>69</td>\n",
       "      <td>1-3min</td>\n",
       "      <td>20778</td>\n",
       "      <td>1</td>\n",
       "      <td>999</td>\n",
       "      <td>0</td>\n",
       "      <td>nonexistent</td>\n",
       "      <td>1</td>\n",
       "    </tr>\n",
       "  </tbody>\n",
       "</table>\n",
       "<p>5 rows × 23 columns</p>\n",
       "</div>"
      ],
      "text/plain": [
       "   client_id  age            job  marital            education default  \\\n",
       "0      29201   56    blue-collar  married             basic.4y      no   \n",
       "1      37259   27    blue-collar  married          high.school      no   \n",
       "2      15290   31  self-employed  married  professional.course      no   \n",
       "3      16663   54      housemaid  married             basic.4y      no   \n",
       "4      20778   36          admin  married    university.degree      no   \n",
       "\n",
       "  housing loan      age_group financial_risk  ... mnth  day_of_week duration  \\\n",
       "0      no   no  Senior_adults       low_risk  ...  apr          fri      422   \n",
       "1      no   no   Young_adults       low_risk  ...  aug          fri      192   \n",
       "2      no   no         Adults       low_risk  ...  jul          thu      505   \n",
       "3     yes   no  Senior_adults  moderate_risk  ...  jul          wed      198   \n",
       "4      no   no         Adults       low_risk  ...  aug          wed       69   \n",
       "\n",
       "  call_duration_band campaign_id  campaign pdays  previous     poutcome  \\\n",
       "0            5-10min       29201         1   999         0  nonexistent   \n",
       "1             3-5min       37259         1     4         1      success   \n",
       "2            5-10min       15290         3   999         0  nonexistent   \n",
       "3             3-5min       16663        13   999         0  nonexistent   \n",
       "4             1-3min       20778         1   999         0  nonexistent   \n",
       "\n",
       "   repeated_contacts  \n",
       "0                  1  \n",
       "1                  1  \n",
       "2                2-3  \n",
       "3                10+  \n",
       "4                  1  \n",
       "\n",
       "[5 rows x 23 columns]"
      ]
     },
     "execution_count": 18,
     "metadata": {},
     "output_type": "execute_result"
    }
   ],
   "source": [
    "df.head()"
   ]
  },
  {
   "cell_type": "code",
   "execution_count": 19,
   "id": "95c1bebf",
   "metadata": {},
   "outputs": [
    {
     "data": {
      "text/plain": [
       "contact\n",
       "cellular     26144\n",
       "telephone    15044\n",
       "Name: count, dtype: int64"
      ]
     },
     "execution_count": 19,
     "metadata": {},
     "output_type": "execute_result"
    }
   ],
   "source": [
    "df_contacts['contact'].value_counts()"
   ]
  },
  {
   "cell_type": "code",
   "execution_count": 20,
   "id": "36b04887",
   "metadata": {},
   "outputs": [
    {
     "data": {
      "text/plain": [
       "mnth\n",
       "apr     2632\n",
       "aug     6178\n",
       "dec      182\n",
       "jul     7174\n",
       "jun     5318\n",
       "mar      546\n",
       "may    13769\n",
       "nov     4101\n",
       "oct      718\n",
       "sep      570\n",
       "Name: count, dtype: int64"
      ]
     },
     "execution_count": 20,
     "metadata": {},
     "output_type": "execute_result"
    }
   ],
   "source": [
    "df_contacts['mnth'].value_counts().sort_index()"
   ]
  },
  {
   "cell_type": "code",
   "execution_count": 21,
   "id": "211b732e",
   "metadata": {},
   "outputs": [
    {
     "data": {
      "text/plain": [
       "day_of_week\n",
       "thu    8623\n",
       "mon    8514\n",
       "wed    8134\n",
       "tue    8090\n",
       "fri    7827\n",
       "Name: count, dtype: int64"
      ]
     },
     "execution_count": 21,
     "metadata": {},
     "output_type": "execute_result"
    }
   ],
   "source": [
    "df_contacts['day_of_week'].value_counts()"
   ]
  },
  {
   "cell_type": "code",
   "execution_count": 22,
   "id": "9689dfa5",
   "metadata": {},
   "outputs": [
    {
     "data": {
      "text/plain": [
       "count    41188.000000\n",
       "mean       258.285010\n",
       "std        259.279249\n",
       "min          0.000000\n",
       "25%        102.000000\n",
       "50%        180.000000\n",
       "75%        319.000000\n",
       "max       4918.000000\n",
       "Name: duration, dtype: float64"
      ]
     },
     "execution_count": 22,
     "metadata": {},
     "output_type": "execute_result"
    }
   ],
   "source": [
    "df_contacts[\"duration\"].describe()\n"
   ]
  },
  {
   "cell_type": "markdown",
   "id": "73c7bc3a",
   "metadata": {},
   "source": [
    "Are duration values skewed or have outliers?"
   ]
  },
  {
   "cell_type": "code",
   "execution_count": 23,
   "id": "64a5f089",
   "metadata": {},
   "outputs": [
    {
     "data": {
      "image/png": "[encoded data removed]",
      "text/plain": [
       "<Figure size 640x480 with 1 Axes>"
      ]
     },
     "metadata": {},
     "output_type": "display_data"
    }
   ],
   "source": [
    "df_contacts['duration'].hist(bins=50)\n",
    "plt.title('Distribution of call duration')\n",
    "plt.xlabel('Duration (seconds)')\n",
    "plt.ylabel('frequency')\n",
    "plt.show()"
   ]
  },
  {
   "cell_type": "markdown",
   "id": "7f03cdac",
   "metadata": {},
   "source": [
    "clearly there are outliers in duration column"
   ]
  },
  {
   "cell_type": "markdown",
   "id": "6353a8dd",
   "metadata": {},
   "source": [
    "Filter Out Meaningless Calls (e.g., 0 duration)"
   ]
  },
  {
   "cell_type": "code",
   "execution_count": 24,
   "id": "61f8dd83",
   "metadata": {},
   "outputs": [],
   "source": [
    "df_contacts = df_contacts[df_contacts['duration'] > 0]"
   ]
  },
  {
   "cell_type": "markdown",
   "id": "2db05193",
   "metadata": {},
   "source": [
    "trim top 1–5%"
   ]
  },
  {
   "cell_type": "code",
   "execution_count": 25,
   "id": "a4fe274c",
   "metadata": {},
   "outputs": [
    {
     "data": {
      "text/plain": [
       "np.float64(752.8499999999985)"
      ]
     },
     "execution_count": 25,
     "metadata": {},
     "output_type": "execute_result"
    }
   ],
   "source": [
    "df_contacts['duration'].quantile(0.95) #Get 95th percentile:"
   ]
  },
  {
   "cell_type": "code",
   "execution_count": 26,
   "id": "65541cdd",
   "metadata": {},
   "outputs": [],
   "source": [
    "df_contacts = df_contacts[df_contacts['duration'] <= 720]"
   ]
  },
  {
   "cell_type": "code",
   "execution_count": 27,
   "id": "5b3b4b3b",
   "metadata": {},
   "outputs": [
    {
     "data": {
      "text/plain": [
       "count    38895.000000\n",
       "mean       211.561049\n",
       "std        153.101239\n",
       "min          1.000000\n",
       "25%         98.000000\n",
       "50%        170.000000\n",
       "75%        286.000000\n",
       "max        720.000000\n",
       "Name: duration, dtype: float64"
      ]
     },
     "execution_count": 27,
     "metadata": {},
     "output_type": "execute_result"
    }
   ],
   "source": [
    "df_contacts[\"duration\"].describe()"
   ]
  },
  {
   "cell_type": "code",
   "execution_count": 28,
   "id": "168e222e",
   "metadata": {},
   "outputs": [],
   "source": [
    "df_contacts[\"duration_group\"] = pd.cut(\n",
    "    df_contacts[\"duration\"],\n",
    "    bins=[0, 60, 180, 300, 600, df_contacts[\"duration\"].max()],\n",
    "    labels=[\"<1min\", \"1–3min\", \"3–5min\", \"5–10min\", \"10min+\"]\n",
    ")\n"
   ]
  },
  {
   "cell_type": "code",
   "execution_count": 29,
   "id": "8df77f90",
   "metadata": {},
   "outputs": [
    {
     "data": {
      "text/plain": [
       "duration_group\n",
       "1–3min     16419\n",
       "3–5min      9279\n",
       "5–10min     7740\n",
       "<1min       4282\n",
       "10min+      1175\n",
       "Name: count, dtype: int64"
      ]
     },
     "execution_count": 29,
     "metadata": {},
     "output_type": "execute_result"
    }
   ],
   "source": [
    "df_contacts['duration_group'].value_counts()"
   ]
  },
  {
   "cell_type": "code",
   "execution_count": 30,
   "id": "5de10d28",
   "metadata": {},
   "outputs": [
    {
     "data": {
      "text/plain": [
       "contact\n",
       "cellular     24627\n",
       "telephone    14268\n",
       "Name: count, dtype: int64"
      ]
     },
     "execution_count": 30,
     "metadata": {},
     "output_type": "execute_result"
    }
   ],
   "source": [
    "df_contacts['contact'].value_counts()"
   ]
  },
  {
   "cell_type": "code",
   "execution_count": 31,
   "id": "da3b4fd1",
   "metadata": {},
   "outputs": [
    {
     "data": {
      "text/html": [
       "<div>\n",
       "<style scoped>\n",
       "    .dataframe tbody tr th:only-of-type {\n",
       "        vertical-align: middle;\n",
       "    }\n",
       "\n",
       "    .dataframe tbody tr th {\n",
       "        vertical-align: top;\n",
       "    }\n",
       "\n",
       "    .dataframe thead th {\n",
       "        text-align: right;\n",
       "    }\n",
       "</style>\n",
       "<table border=\"1\" class=\"dataframe\">\n",
       "  <thead>\n",
       "    <tr style=\"text-align: right;\">\n",
       "      <th>y</th>\n",
       "      <th>no</th>\n",
       "      <th>yes</th>\n",
       "    </tr>\n",
       "    <tr>\n",
       "      <th>contact</th>\n",
       "      <th></th>\n",
       "      <th></th>\n",
       "    </tr>\n",
       "  </thead>\n",
       "  <tbody>\n",
       "    <tr>\n",
       "      <th>cellular</th>\n",
       "      <td>22291</td>\n",
       "      <td>3853</td>\n",
       "    </tr>\n",
       "    <tr>\n",
       "      <th>telephone</th>\n",
       "      <td>14257</td>\n",
       "      <td>787</td>\n",
       "    </tr>\n",
       "  </tbody>\n",
       "</table>\n",
       "</div>"
      ],
      "text/plain": [
       "y             no   yes\n",
       "contact               \n",
       "cellular   22291  3853\n",
       "telephone  14257   787"
      ]
     },
     "execution_count": 31,
     "metadata": {},
     "output_type": "execute_result"
    }
   ],
   "source": [
    "df.groupby(\"contact\")[\"y\"].value_counts(normalize=False).unstack()"
   ]
  },
  {
   "cell_type": "code",
   "execution_count": 32,
   "id": "b612a078",
   "metadata": {},
   "outputs": [
    {
     "data": {
      "text/plain": [
       "mnth\n",
       "apr     2458\n",
       "aug     5904\n",
       "dec      167\n",
       "jul     6672\n",
       "jun     5057\n",
       "mar      533\n",
       "may    13026\n",
       "nov     3876\n",
       "oct      674\n",
       "sep      528\n",
       "Name: count, dtype: int64"
      ]
     },
     "execution_count": 32,
     "metadata": {},
     "output_type": "execute_result"
    }
   ],
   "source": [
    "df_contacts['mnth'].value_counts().sort_index()"
   ]
  },
  {
   "cell_type": "code",
   "execution_count": 33,
   "id": "cda45d97",
   "metadata": {},
   "outputs": [
    {
     "data": {
      "text/html": [
       "<div>\n",
       "<style scoped>\n",
       "    .dataframe tbody tr th:only-of-type {\n",
       "        vertical-align: middle;\n",
       "    }\n",
       "\n",
       "    .dataframe tbody tr th {\n",
       "        vertical-align: top;\n",
       "    }\n",
       "\n",
       "    .dataframe thead th {\n",
       "        text-align: right;\n",
       "    }\n",
       "</style>\n",
       "<table border=\"1\" class=\"dataframe\">\n",
       "  <thead>\n",
       "    <tr style=\"text-align: right;\">\n",
       "      <th>y</th>\n",
       "      <th>no</th>\n",
       "      <th>yes</th>\n",
       "    </tr>\n",
       "    <tr>\n",
       "      <th>mnth</th>\n",
       "      <th></th>\n",
       "      <th></th>\n",
       "    </tr>\n",
       "  </thead>\n",
       "  <tbody>\n",
       "    <tr>\n",
       "      <th>apr</th>\n",
       "      <td>2093</td>\n",
       "      <td>539</td>\n",
       "    </tr>\n",
       "    <tr>\n",
       "      <th>aug</th>\n",
       "      <td>5523</td>\n",
       "      <td>655</td>\n",
       "    </tr>\n",
       "    <tr>\n",
       "      <th>dec</th>\n",
       "      <td>93</td>\n",
       "      <td>89</td>\n",
       "    </tr>\n",
       "    <tr>\n",
       "      <th>jul</th>\n",
       "      <td>6525</td>\n",
       "      <td>649</td>\n",
       "    </tr>\n",
       "    <tr>\n",
       "      <th>jun</th>\n",
       "      <td>4759</td>\n",
       "      <td>559</td>\n",
       "    </tr>\n",
       "    <tr>\n",
       "      <th>mar</th>\n",
       "      <td>270</td>\n",
       "      <td>276</td>\n",
       "    </tr>\n",
       "    <tr>\n",
       "      <th>may</th>\n",
       "      <td>12883</td>\n",
       "      <td>886</td>\n",
       "    </tr>\n",
       "    <tr>\n",
       "      <th>nov</th>\n",
       "      <td>3685</td>\n",
       "      <td>416</td>\n",
       "    </tr>\n",
       "    <tr>\n",
       "      <th>oct</th>\n",
       "      <td>403</td>\n",
       "      <td>315</td>\n",
       "    </tr>\n",
       "    <tr>\n",
       "      <th>sep</th>\n",
       "      <td>314</td>\n",
       "      <td>256</td>\n",
       "    </tr>\n",
       "  </tbody>\n",
       "</table>\n",
       "</div>"
      ],
      "text/plain": [
       "y        no  yes\n",
       "mnth            \n",
       "apr    2093  539\n",
       "aug    5523  655\n",
       "dec      93   89\n",
       "jul    6525  649\n",
       "jun    4759  559\n",
       "mar     270  276\n",
       "may   12883  886\n",
       "nov    3685  416\n",
       "oct     403  315\n",
       "sep     314  256"
      ]
     },
     "execution_count": 33,
     "metadata": {},
     "output_type": "execute_result"
    }
   ],
   "source": [
    "df.groupby(\"mnth\")[\"y\"].value_counts(normalize=False).unstack().round(2)\n"
   ]
  },
  {
   "cell_type": "code",
   "execution_count": 34,
   "id": "53235d57",
   "metadata": {},
   "outputs": [
    {
     "data": {
      "text/html": [
       "<div>\n",
       "<style scoped>\n",
       "    .dataframe tbody tr th:only-of-type {\n",
       "        vertical-align: middle;\n",
       "    }\n",
       "\n",
       "    .dataframe tbody tr th {\n",
       "        vertical-align: top;\n",
       "    }\n",
       "\n",
       "    .dataframe thead th {\n",
       "        text-align: right;\n",
       "    }\n",
       "</style>\n",
       "<table border=\"1\" class=\"dataframe\">\n",
       "  <thead>\n",
       "    <tr style=\"text-align: right;\">\n",
       "      <th>y</th>\n",
       "      <th>no</th>\n",
       "      <th>yes</th>\n",
       "    </tr>\n",
       "    <tr>\n",
       "      <th>day_of_week</th>\n",
       "      <th></th>\n",
       "      <th></th>\n",
       "    </tr>\n",
       "  </thead>\n",
       "  <tbody>\n",
       "    <tr>\n",
       "      <th>fri</th>\n",
       "      <td>6981</td>\n",
       "      <td>846</td>\n",
       "    </tr>\n",
       "    <tr>\n",
       "      <th>mon</th>\n",
       "      <td>7667</td>\n",
       "      <td>847</td>\n",
       "    </tr>\n",
       "    <tr>\n",
       "      <th>thu</th>\n",
       "      <td>7578</td>\n",
       "      <td>1045</td>\n",
       "    </tr>\n",
       "    <tr>\n",
       "      <th>tue</th>\n",
       "      <td>7137</td>\n",
       "      <td>953</td>\n",
       "    </tr>\n",
       "    <tr>\n",
       "      <th>wed</th>\n",
       "      <td>7185</td>\n",
       "      <td>949</td>\n",
       "    </tr>\n",
       "  </tbody>\n",
       "</table>\n",
       "</div>"
      ],
      "text/plain": [
       "y              no   yes\n",
       "day_of_week            \n",
       "fri          6981   846\n",
       "mon          7667   847\n",
       "thu          7578  1045\n",
       "tue          7137   953\n",
       "wed          7185   949"
      ]
     },
     "execution_count": 34,
     "metadata": {},
     "output_type": "execute_result"
    }
   ],
   "source": [
    "df_contacts['day_of_week'].value_counts()\n",
    "\n",
    "df.groupby('day_of_week')['y'].value_counts().unstack().round(2)"
   ]
  },
  {
   "cell_type": "code",
   "execution_count": 35,
   "id": "662f58ad",
   "metadata": {},
   "outputs": [],
   "source": [
    "df[\"duration_group\"] = pd.cut(\n",
    "    df[\"duration\"],\n",
    "    bins=[0, 60, 180, 300, 600, df[\"duration\"].max()],\n",
    "    labels=[\"<1min\", \"1–3min\", \"3–5min\", \"5–10min\", \"10min+\"]\n",
    ")\n"
   ]
  },
  {
   "cell_type": "code",
   "execution_count": 36,
   "id": "d26d8020",
   "metadata": {},
   "outputs": [
    {
     "name": "stderr",
     "output_type": "stream",
     "text": [
      "C:\\Users\\annur\\AppData\\Local\\Temp\\ipykernel_15672\\4235303939.py:1: FutureWarning: The default of observed=False is deprecated and will be changed to True in a future version of pandas. Pass observed=False to retain current behavior or observed=True to adopt the future default and silence this warning.\n",
      "  df.groupby(\"duration_group\")[\"y\"].value_counts(normalize=False).unstack().round(5)\n"
     ]
    },
    {
     "data": {
      "text/html": [
       "<div>\n",
       "<style scoped>\n",
       "    .dataframe tbody tr th:only-of-type {\n",
       "        vertical-align: middle;\n",
       "    }\n",
       "\n",
       "    .dataframe tbody tr th {\n",
       "        vertical-align: top;\n",
       "    }\n",
       "\n",
       "    .dataframe thead th {\n",
       "        text-align: right;\n",
       "    }\n",
       "</style>\n",
       "<table border=\"1\" class=\"dataframe\">\n",
       "  <thead>\n",
       "    <tr style=\"text-align: right;\">\n",
       "      <th>y</th>\n",
       "      <th>no</th>\n",
       "      <th>yes</th>\n",
       "    </tr>\n",
       "    <tr>\n",
       "      <th>duration_group</th>\n",
       "      <th></th>\n",
       "      <th></th>\n",
       "    </tr>\n",
       "  </thead>\n",
       "  <tbody>\n",
       "    <tr>\n",
       "      <th>&lt;1min</th>\n",
       "      <td>4281</td>\n",
       "      <td>1</td>\n",
       "    </tr>\n",
       "    <tr>\n",
       "      <th>1–3min</th>\n",
       "      <td>15856</td>\n",
       "      <td>563</td>\n",
       "    </tr>\n",
       "    <tr>\n",
       "      <th>3–5min</th>\n",
       "      <td>8325</td>\n",
       "      <td>954</td>\n",
       "    </tr>\n",
       "    <tr>\n",
       "      <th>5–10min</th>\n",
       "      <td>6302</td>\n",
       "      <td>1438</td>\n",
       "    </tr>\n",
       "    <tr>\n",
       "      <th>10min+</th>\n",
       "      <td>1780</td>\n",
       "      <td>1684</td>\n",
       "    </tr>\n",
       "  </tbody>\n",
       "</table>\n",
       "</div>"
      ],
      "text/plain": [
       "y                  no   yes\n",
       "duration_group             \n",
       "<1min            4281     1\n",
       "1–3min          15856   563\n",
       "3–5min           8325   954\n",
       "5–10min          6302  1438\n",
       "10min+           1780  1684"
      ]
     },
     "execution_count": 36,
     "metadata": {},
     "output_type": "execute_result"
    }
   ],
   "source": [
    "df.groupby(\"duration_group\")[\"y\"].value_counts(normalize=False).unstack().round(5)\n"
   ]
  },
  {
   "cell_type": "markdown",
   "id": "8d88d87f",
   "metadata": {},
   "source": [
    "Campaign table evaluation "
   ]
  },
  {
   "cell_type": "code",
   "execution_count": 37,
   "id": "df1339d5",
   "metadata": {},
   "outputs": [
    {
     "name": "stdout",
     "output_type": "stream",
     "text": [
      "<class 'pandas.core.frame.DataFrame'>\n",
      "RangeIndex: 41188 entries, 0 to 41187\n",
      "Data columns (total 7 columns):\n",
      " #   Column             Non-Null Count  Dtype \n",
      "---  ------             --------------  ----- \n",
      " 0   campaign_id        41188 non-null  int64 \n",
      " 1   client_id          41188 non-null  int64 \n",
      " 2   campaign           41188 non-null  int64 \n",
      " 3   pdays              41188 non-null  int64 \n",
      " 4   previous           41188 non-null  int64 \n",
      " 5   poutcome           41188 non-null  object\n",
      " 6   repeated_contacts  41188 non-null  object\n",
      "dtypes: int64(5), object(2)\n",
      "memory usage: 2.2+ MB\n"
     ]
    },
    {
     "data": {
      "text/html": [
       "<div>\n",
       "<style scoped>\n",
       "    .dataframe tbody tr th:only-of-type {\n",
       "        vertical-align: middle;\n",
       "    }\n",
       "\n",
       "    .dataframe tbody tr th {\n",
       "        vertical-align: top;\n",
       "    }\n",
       "\n",
       "    .dataframe thead th {\n",
       "        text-align: right;\n",
       "    }\n",
       "</style>\n",
       "<table border=\"1\" class=\"dataframe\">\n",
       "  <thead>\n",
       "    <tr style=\"text-align: right;\">\n",
       "      <th></th>\n",
       "      <th>campaign_id</th>\n",
       "      <th>client_id</th>\n",
       "      <th>campaign</th>\n",
       "      <th>pdays</th>\n",
       "      <th>previous</th>\n",
       "    </tr>\n",
       "  </thead>\n",
       "  <tbody>\n",
       "    <tr>\n",
       "      <th>count</th>\n",
       "      <td>41188.00000</td>\n",
       "      <td>41188.00000</td>\n",
       "      <td>41188.000000</td>\n",
       "      <td>41188.000000</td>\n",
       "      <td>41188.000000</td>\n",
       "    </tr>\n",
       "    <tr>\n",
       "      <th>mean</th>\n",
       "      <td>20594.50000</td>\n",
       "      <td>20594.50000</td>\n",
       "      <td>2.567593</td>\n",
       "      <td>962.475454</td>\n",
       "      <td>0.172963</td>\n",
       "    </tr>\n",
       "    <tr>\n",
       "      <th>std</th>\n",
       "      <td>11890.09578</td>\n",
       "      <td>11890.09578</td>\n",
       "      <td>2.770014</td>\n",
       "      <td>186.910907</td>\n",
       "      <td>0.494901</td>\n",
       "    </tr>\n",
       "    <tr>\n",
       "      <th>min</th>\n",
       "      <td>1.00000</td>\n",
       "      <td>1.00000</td>\n",
       "      <td>1.000000</td>\n",
       "      <td>0.000000</td>\n",
       "      <td>0.000000</td>\n",
       "    </tr>\n",
       "    <tr>\n",
       "      <th>25%</th>\n",
       "      <td>10297.75000</td>\n",
       "      <td>10297.75000</td>\n",
       "      <td>1.000000</td>\n",
       "      <td>999.000000</td>\n",
       "      <td>0.000000</td>\n",
       "    </tr>\n",
       "    <tr>\n",
       "      <th>50%</th>\n",
       "      <td>20594.50000</td>\n",
       "      <td>20594.50000</td>\n",
       "      <td>2.000000</td>\n",
       "      <td>999.000000</td>\n",
       "      <td>0.000000</td>\n",
       "    </tr>\n",
       "    <tr>\n",
       "      <th>75%</th>\n",
       "      <td>30891.25000</td>\n",
       "      <td>30891.25000</td>\n",
       "      <td>3.000000</td>\n",
       "      <td>999.000000</td>\n",
       "      <td>0.000000</td>\n",
       "    </tr>\n",
       "    <tr>\n",
       "      <th>max</th>\n",
       "      <td>41188.00000</td>\n",
       "      <td>41188.00000</td>\n",
       "      <td>56.000000</td>\n",
       "      <td>999.000000</td>\n",
       "      <td>7.000000</td>\n",
       "    </tr>\n",
       "  </tbody>\n",
       "</table>\n",
       "</div>"
      ],
      "text/plain": [
       "       campaign_id    client_id      campaign         pdays      previous\n",
       "count  41188.00000  41188.00000  41188.000000  41188.000000  41188.000000\n",
       "mean   20594.50000  20594.50000      2.567593    962.475454      0.172963\n",
       "std    11890.09578  11890.09578      2.770014    186.910907      0.494901\n",
       "min        1.00000      1.00000      1.000000      0.000000      0.000000\n",
       "25%    10297.75000  10297.75000      1.000000    999.000000      0.000000\n",
       "50%    20594.50000  20594.50000      2.000000    999.000000      0.000000\n",
       "75%    30891.25000  30891.25000      3.000000    999.000000      0.000000\n",
       "max    41188.00000  41188.00000     56.000000    999.000000      7.000000"
      ]
     },
     "execution_count": 37,
     "metadata": {},
     "output_type": "execute_result"
    }
   ],
   "source": [
    "df_campaigns.info()\n",
    "df_campaigns.describe()"
   ]
  },
  {
   "cell_type": "markdown",
   "id": "566fe468",
   "metadata": {},
   "source": [
    "Plot the distribution"
   ]
  },
  {
   "cell_type": "code",
   "execution_count": 38,
   "id": "fe394fa5",
   "metadata": {},
   "outputs": [
    {
     "data": {
      "image/png": "[encoded data removed]",
      "text/plain": [
       "<Figure size 640x480 with 1 Axes>"
      ]
     },
     "metadata": {},
     "output_type": "display_data"
    }
   ],
   "source": [
    "df_campaigns['campaign'].hist(bins=30)\n",
    "plt.title(\"Distribution of Number of Contacts During Campaign\")\n",
    "plt.xlabel('Number of contacts')\n",
    "plt.ylabel('Client Count')\n",
    "plt.show()"
   ]
  },
  {
   "cell_type": "code",
   "execution_count": 39,
   "id": "df22aa80",
   "metadata": {},
   "outputs": [],
   "source": [
    "df['campaign_group'] = pd.cut(\n",
    "    df['campaign'],\n",
    "    bins=[0,1,3,5,10 , df['campaign'].max()],\n",
    "    labels = ['1','2-3','4-5','6-10','10+']\n",
    ")"
   ]
  },
  {
   "cell_type": "code",
   "execution_count": 40,
   "id": "ab241a13",
   "metadata": {},
   "outputs": [
    {
     "name": "stdout",
     "output_type": "stream",
     "text": [
      "y                 no   yes\n",
      "campaign_group            \n",
      "1               87.0  13.0\n",
      "2-3             88.8  11.2\n",
      "4-5             91.3   8.7\n",
      "6-10            93.7   6.3\n",
      "10+             96.9   3.1\n"
     ]
    },
    {
     "name": "stderr",
     "output_type": "stream",
     "text": [
      "C:\\Users\\annur\\AppData\\Local\\Temp\\ipykernel_15672\\815723473.py:1: FutureWarning: The default of observed=False is deprecated and will be changed to True in a future version of pandas. Pass observed=False to retain current behavior or observed=True to adopt the future default and silence this warning.\n",
      "  result = df.groupby('campaign_group')['y'].value_counts(normalize=True).unstack().round(3)*100\n"
     ]
    }
   ],
   "source": [
    "result = df.groupby('campaign_group')['y'].value_counts(normalize=True).unstack().round(3)*100\n",
    "print(result)"
   ]
  },
  {
   "cell_type": "code",
   "execution_count": 41,
   "id": "b94ecc0b",
   "metadata": {},
   "outputs": [
    {
     "data": {
      "text/plain": [
       "campaign_group\n",
       "1       13.0\n",
       "2-3     11.2\n",
       "4-5      8.7\n",
       "6-10     6.3\n",
       "10+      3.1\n",
       "Name: yes, dtype: float64"
      ]
     },
     "execution_count": 41,
     "metadata": {},
     "output_type": "execute_result"
    }
   ],
   "source": [
    "result['yes'].sort_values(ascending=False)"
   ]
  },
  {
   "cell_type": "code",
   "execution_count": 42,
   "id": "283860f6",
   "metadata": {},
   "outputs": [
    {
     "data": {
      "text/plain": [
       "campaign_group\n",
       "1       13.0\n",
       "2-3     11.2\n",
       "4-5      8.7\n",
       "6-10     6.3\n",
       "10+      3.1\n",
       "dtype: float64"
      ]
     },
     "execution_count": 42,
     "metadata": {},
     "output_type": "execute_result"
    }
   ],
   "source": [
    "conversion_rate = result['yes'] / (result['yes'] + result['no']) * 100\n",
    "conversion_rate.round(2)"
   ]
  },
  {
   "cell_type": "code",
   "execution_count": 43,
   "id": "7e287877",
   "metadata": {},
   "outputs": [
    {
     "data": {
      "text/plain": [
       "pdays\n",
       "999    39673\n",
       "3        439\n",
       "6        412\n",
       "4        118\n",
       "9         64\n",
       "Name: count, dtype: int64"
      ]
     },
     "execution_count": 43,
     "metadata": {},
     "output_type": "execute_result"
    }
   ],
   "source": [
    "df[\"pdays\"].value_counts().head()\n"
   ]
  },
  {
   "cell_type": "code",
   "execution_count": 44,
   "id": "12a541b8",
   "metadata": {},
   "outputs": [],
   "source": [
    "df_campaigns[\"pdays\"] = pd.to_numeric(df[\"pdays\"], errors='coerce')  # just in case\n",
    "df_campaigns[\"pdays_group\"] = df_campaigns[\"pdays\"].apply(lambda x: \"not_contacted_recently \" if x == 999 else \"contacted_before\")\n"
   ]
  },
  {
   "cell_type": "code",
   "execution_count": 45,
   "id": "77bccb87",
   "metadata": {},
   "outputs": [
    {
     "data": {
      "text/plain": [
       "pdays_group\n",
       "not_contacted_recently     39673\n",
       "Name: count, dtype: int64"
      ]
     },
     "execution_count": 45,
     "metadata": {},
     "output_type": "execute_result"
    }
   ],
   "source": [
    "df_campaigns[df_campaigns[\"pdays\"] == 999][\"pdays_group\"].value_counts()\n"
   ]
  },
  {
   "cell_type": "code",
   "execution_count": 46,
   "id": "2df69d79",
   "metadata": {},
   "outputs": [
    {
     "data": {
      "text/plain": [
       "pdays_group\n",
       "not_contacted_recently     39673\n",
       "contacted_before            1515\n",
       "Name: count, dtype: int64"
      ]
     },
     "execution_count": 46,
     "metadata": {},
     "output_type": "execute_result"
    }
   ],
   "source": [
    "df_campaigns[\"pdays_group\"].value_counts()\n"
   ]
  },
  {
   "cell_type": "code",
   "execution_count": 47,
   "id": "ee13fd85",
   "metadata": {},
   "outputs": [],
   "source": [
    "df_merged = df_campaigns.merge(df_subscriptions,on = 'client_id')"
   ]
  },
  {
   "cell_type": "code",
   "execution_count": 50,
   "id": "b5ceaf9f",
   "metadata": {},
   "outputs": [
    {
     "data": {
      "text/html": [
       "<div>\n",
       "<style scoped>\n",
       "    .dataframe tbody tr th:only-of-type {\n",
       "        vertical-align: middle;\n",
       "    }\n",
       "\n",
       "    .dataframe tbody tr th {\n",
       "        vertical-align: top;\n",
       "    }\n",
       "\n",
       "    .dataframe thead th {\n",
       "        text-align: right;\n",
       "    }\n",
       "</style>\n",
       "<table border=\"1\" class=\"dataframe\">\n",
       "  <thead>\n",
       "    <tr style=\"text-align: right;\">\n",
       "      <th></th>\n",
       "      <th>y</th>\n",
       "      <th>no</th>\n",
       "      <th>yes</th>\n",
       "    </tr>\n",
       "    <tr>\n",
       "      <th>pdays_group</th>\n",
       "      <th>poutcome</th>\n",
       "      <th></th>\n",
       "      <th></th>\n",
       "    </tr>\n",
       "  </thead>\n",
       "  <tbody>\n",
       "    <tr>\n",
       "      <th rowspan=\"3\" valign=\"top\">contacted_before</th>\n",
       "      <th>failure</th>\n",
       "      <td>90</td>\n",
       "      <td>7</td>\n",
       "    </tr>\n",
       "    <tr>\n",
       "      <th>nonexistent</th>\n",
       "      <td>1265</td>\n",
       "      <td>138</td>\n",
       "    </tr>\n",
       "    <tr>\n",
       "      <th>success</th>\n",
       "      <td>5</td>\n",
       "      <td>10</td>\n",
       "    </tr>\n",
       "    <tr>\n",
       "      <th rowspan=\"3\" valign=\"top\">not_contacted_recently</th>\n",
       "      <th>failure</th>\n",
       "      <td>3557</td>\n",
       "      <td>598</td>\n",
       "    </tr>\n",
       "    <tr>\n",
       "      <th>nonexistent</th>\n",
       "      <td>31157</td>\n",
       "      <td>3003</td>\n",
       "    </tr>\n",
       "    <tr>\n",
       "      <th>success</th>\n",
       "      <td>474</td>\n",
       "      <td>884</td>\n",
       "    </tr>\n",
       "  </tbody>\n",
       "</table>\n",
       "</div>"
      ],
      "text/plain": [
       "y                                       no   yes\n",
       "pdays_group             poutcome                \n",
       "contacted_before        failure         90     7\n",
       "                        nonexistent   1265   138\n",
       "                        success          5    10\n",
       "not_contacted_recently  failure       3557   598\n",
       "                        nonexistent  31157  3003\n",
       "                        success        474   884"
      ]
     },
     "execution_count": 50,
     "metadata": {},
     "output_type": "execute_result"
    }
   ],
   "source": [
    "result = df_merged.groupby([\"pdays_group\", \"poutcome\" ])[\"y\"].value_counts(normalize=False).unstack().round(4)\n",
    "result\n"
   ]
  },
  {
   "cell_type": "code",
   "execution_count": 51,
   "id": "3d08868e",
   "metadata": {},
   "outputs": [
    {
     "data": {
      "text/html": [
       "<div>\n",
       "<style scoped>\n",
       "    .dataframe tbody tr th:only-of-type {\n",
       "        vertical-align: middle;\n",
       "    }\n",
       "\n",
       "    .dataframe tbody tr th {\n",
       "        vertical-align: top;\n",
       "    }\n",
       "\n",
       "    .dataframe thead th {\n",
       "        text-align: right;\n",
       "    }\n",
       "</style>\n",
       "<table border=\"1\" class=\"dataframe\">\n",
       "  <thead>\n",
       "    <tr style=\"text-align: right;\">\n",
       "      <th>y</th>\n",
       "      <th>no</th>\n",
       "      <th>yes</th>\n",
       "    </tr>\n",
       "    <tr>\n",
       "      <th>previous</th>\n",
       "      <th></th>\n",
       "      <th></th>\n",
       "    </tr>\n",
       "  </thead>\n",
       "  <tbody>\n",
       "    <tr>\n",
       "      <th>0</th>\n",
       "      <td>32422.0</td>\n",
       "      <td>3141.0</td>\n",
       "    </tr>\n",
       "    <tr>\n",
       "      <th>1</th>\n",
       "      <td>3594.0</td>\n",
       "      <td>967.0</td>\n",
       "    </tr>\n",
       "    <tr>\n",
       "      <th>2</th>\n",
       "      <td>404.0</td>\n",
       "      <td>350.0</td>\n",
       "    </tr>\n",
       "    <tr>\n",
       "      <th>3</th>\n",
       "      <td>88.0</td>\n",
       "      <td>128.0</td>\n",
       "    </tr>\n",
       "    <tr>\n",
       "      <th>4</th>\n",
       "      <td>32.0</td>\n",
       "      <td>38.0</td>\n",
       "    </tr>\n",
       "    <tr>\n",
       "      <th>5</th>\n",
       "      <td>5.0</td>\n",
       "      <td>13.0</td>\n",
       "    </tr>\n",
       "    <tr>\n",
       "      <th>6</th>\n",
       "      <td>2.0</td>\n",
       "      <td>3.0</td>\n",
       "    </tr>\n",
       "    <tr>\n",
       "      <th>7</th>\n",
       "      <td>1.0</td>\n",
       "      <td>NaN</td>\n",
       "    </tr>\n",
       "  </tbody>\n",
       "</table>\n",
       "</div>"
      ],
      "text/plain": [
       "y              no     yes\n",
       "previous                 \n",
       "0         32422.0  3141.0\n",
       "1          3594.0   967.0\n",
       "2           404.0   350.0\n",
       "3            88.0   128.0\n",
       "4            32.0    38.0\n",
       "5             5.0    13.0\n",
       "6             2.0     3.0\n",
       "7             1.0     NaN"
      ]
     },
     "execution_count": 51,
     "metadata": {},
     "output_type": "execute_result"
    }
   ],
   "source": [
    "df_merged.groupby(['previous'])['y'].value_counts(normalize=False).unstack().round(4)"
   ]
  },
  {
   "cell_type": "code",
   "execution_count": null,
   "id": "d773f901",
   "metadata": {},
   "outputs": [],
   "source": []
  },
  {
   "cell_type": "code",
   "execution_count": null,
   "id": "262c978a",
   "metadata": {},
   "outputs": [],
   "source": []
  },
  {
   "cell_type": "code",
   "execution_count": null,
   "id": "49fd0f23",
   "metadata": {},
   "outputs": [],
   "source": []
  }
 ],
 "metadata": {
  "kernelspec": {
   "display_name": "Python 3",
   "language": "python",
   "name": "python3"
  },
  "language_info": {
   "codemirror_mode": {
    "name": "ipython",
    "version": 3
   },
   "file_extension": ".py",
   "mimetype": "text/x-python",
   "name": "python",
   "nbconvert_exporter": "python",
   "pygments_lexer": "ipython3",
   "version": "3.12.6"
  }
 },
 "nbformat": 4,
 "nbformat_minor": 5
}
